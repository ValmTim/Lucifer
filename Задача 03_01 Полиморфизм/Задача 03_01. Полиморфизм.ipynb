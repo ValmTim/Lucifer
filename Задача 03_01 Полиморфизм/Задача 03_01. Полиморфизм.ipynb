{
 "cells":[
  {
   "cell_type":"code",
   "source":[
    "class AmericanDate:\n",
    " \n",
    "    def __init__(self, y, m, d):\n",
    "        self.y = y\n",
    "        self.m = m\n",
    "        self.d = d\n",
    " \n",
    "    def get_year(self):\n",
    "        self.y = str(self.y)\n",
    "        return self.y\n",
    " \n",
    "    def get_month(self):\n",
    "        self.m = str(self.m)\n",
    "        return self.m\n",
    " \n",
    "    def get_day(self):\n",
    "        self.d = str(self.d)\n",
    "        return self.d\n",
    " \n",
    "    def set_year(self, ny):\n",
    "        self.y = ny\n",
    "        return self.y\n",
    " \n",
    "    def set_month(self, nm):\n",
    "        self.m = str(nm)\n",
    "        return str(self.m)\n",
    " \n",
    "    def set_day(self, nd):\n",
    "        self.d = str(nd)\n",
    "        return self.d\n",
    " \n",
    "    def format(self):\n",
    "        if len(self.get_day()) > 1 and len(self.get_month()) > 1:\n",
    "            return f'{self.get_month()}.{self.get_day()}.{self.get_year()}'\n",
    "        if len(self.get_day()) == 1 and len(self.get_month()) == 1:\n",
    "            return f'0{self.get_month()}.0{self.get_day()}.{self.get_year()}'\n",
    "        if len(self.get_day()) > 1 and len(self.get_month()) == 1:\n",
    "            return f'0{self.get_month()}.{self.get_day()}.{self.get_year()}'\n",
    "        if len(self.get_day()) == 1 and len(self.get_month()) > 1:\n",
    "            return f'{self.get_month()}.0{self.get_day()}.{self.get_year()}'\n",
    "print('22.54.24')"
   ],
   "execution_count":8,
   "outputs":[
    {
     "name":"stdout",
     "text":[
      "22.54.24\n"
     ],
     "output_type":"stream"
    }
   ],
   "metadata":{
    "datalore":{
     "type":"CODE",
     "hide_input_from_viewers":false,
     "hide_output_from_viewers":false,
     "node_id":"fV1B5eP3WWbuf7wIqArncs"
    }
   }
  }
 ],
 "metadata":{
  "datalore":{
   "version":1,
   "computation_mode":"JUPYTER",
   "package_manager":"pip",
   "base_environment":"default",
   "packages":[
    
   ]
  }
 },
 "nbformat":4,
 "nbformat_minor":4
}